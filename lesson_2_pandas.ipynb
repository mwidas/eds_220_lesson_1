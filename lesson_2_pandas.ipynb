{
 "cells": [
  {
   "cell_type": "markdown",
   "id": "f5a96828-411c-4f0f-a67d-9af593809df0",
   "metadata": {},
   "source": [
    "# Objective\n",
    "\n",
    "review core 'pandas' objects: `pandas.Series` and `panda.DataFrame`\n",
    "\n",
    "# `pandas`\n",
    "- Python package to wrangle and analyze tabular dara\n",
    "- built on top of Numpy\n",
    "- core tool for data analysis in Python\n"
   ]
  },
  {
   "cell_type": "code",
   "execution_count": 2,
   "id": "6da101cd-ee02-4485-bd0c-2b580a5011af",
   "metadata": {
    "tags": []
   },
   "outputs": [],
   "source": [
    "#import pandas with standards abbreviation\n",
    "import pandas as pd\n",
    "\n",
    "#import numpy too!\n",
    "import numpy as np"
   ]
  },
  {
   "cell_type": "markdown",
   "id": "e7336cdd-b07c-44c3-a5d1-e82b53400ea0",
   "metadata": {},
   "source": [
    "# Series \n",
    "\n",
    "A `pandas.Series`:\n",
    "\n",
    "- is one of the core data structures in `pandas`\n",
    "- a 1-dimensional array of *indexed* data\n",
    "- will be the columns of the `pandas.DataFrame`\n",
    "\n",
    "# Creating a pandas Series \n",
    "\n",
    "Several ways of creating a pandas Series. \n",
    "For now, we will create series using:\n",
    "\n",
    "```\n",
    "s = pd.Series(data, index=index)\n",
    "```\n",
    "\n",
    "- `data` = a numpy array (or a list of objects that can be converted to Numpy types)\n",
    "- `index` = a list of indices of same length as data"
   ]
  },
  {
   "cell_type": "code",
   "execution_count": 4,
   "id": "38174296-4df8-41cb-b326-ec59b30c5aa5",
   "metadata": {
    "tags": []
   },
   "outputs": [
    {
     "data": {
      "text/plain": [
       "array([0, 1, 2])"
      ]
     },
     "execution_count": 4,
     "metadata": {},
     "output_type": "execute_result"
    }
   ],
   "source": [
    "# Example: a pandas series from a numpy array\n",
    "\n",
    "#np.arrange() function constructs an array of consecutive integers\n",
    "np.arange(3)"
   ]
  },
  {
   "cell_type": "code",
   "execution_count": 5,
   "id": "07fe0ce8-9741-43e3-8c4c-1ed3d2f60b75",
   "metadata": {
    "tags": []
   },
   "outputs": [
    {
     "data": {
      "text/plain": [
       "a    0\n",
       "b    1\n",
       "c    2\n",
       "dtype: int64"
      ]
     },
     "execution_count": 5,
     "metadata": {},
     "output_type": "execute_result"
    }
   ],
   "source": [
    "# we can use this to create a pandas Series\n",
    "pd.Series(np.arange(3), index=['a', 'b', 'c'])"
   ]
  },
  {
   "cell_type": "markdown",
   "id": "bb325dc8-c2ce-4570-8161-d7e6bbea8584",
   "metadata": {},
   "source": [
    "What kind of parameter is `index`?\n",
    "\n",
    "A: an optional parameter, there is a default value to it.\n",
    "\n",
    "If we don't specify `index`, the default is to start the index from 0.\n",
    "\n",
    "Example:"
   ]
  },
  {
   "cell_type": "code",
   "execution_count": 6,
   "id": "a3a6f7b0-52ea-49d8-9e84-cbe45f359e46",
   "metadata": {
    "tags": []
   },
   "outputs": [
    {
     "data": {
      "text/plain": [
       "0    EDS 220\n",
       "1    EDS 222\n",
       "2    EDS 223\n",
       "3    EDS 242\n",
       "dtype: object"
      ]
     },
     "execution_count": 6,
     "metadata": {},
     "output_type": "execute_result"
    }
   ],
   "source": [
    "#create a series from a list of strings with default index\n",
    "pd.Series(['EDS 220','EDS 222', 'EDS 223', 'EDS 242'])"
   ]
  },
  {
   "cell_type": "markdown",
   "id": "8f33d238-05dd-46bf-9011-368c99579b8a",
   "metadata": {},
   "source": [
    "# Operation of Series \n",
    "\n",
    "Arithmetic operations work on series on also most Numpy functions.\n",
    "\n",
    "Example:"
   ]
  },
  {
   "cell_type": "code",
   "execution_count": 9,
   "id": "dd621ee4-34de-4b72-85e3-e971c5ec11f8",
   "metadata": {
    "tags": []
   },
   "outputs": [
    {
     "name": "stdout",
     "output_type": "stream",
     "text": [
      "Andrea      98\n",
      "Beth        73\n",
      "Caroline    65\n",
      "dtype: int64 \n",
      "\n",
      "Andrea      9.8\n",
      "Beth        7.3\n",
      "Caroline    6.5\n",
      "dtype: float64\n"
     ]
    }
   ],
   "source": [
    "#define series, and when print create an empty line in between\n",
    "s = pd.Series([98, 73, 65], index=['Andrea', 'Beth', 'Caroline'])\n",
    "print(s, '\\n')\n",
    "\n",
    "# divide each element in the series by 10:\n",
    "print(s/10)"
   ]
  },
  {
   "cell_type": "markdown",
   "id": "dfdd02c1-b83a-4a23-bed4-e18c8b8226ba",
   "metadata": {},
   "source": [
    "Example: create a new series with `true`\\`false` values indicating whether the elements in the series satisfy a condition or not."
   ]
  },
  {
   "cell_type": "code",
   "execution_count": 10,
   "id": "b570cafd-bce6-4fbb-bc30-8aef235ad752",
   "metadata": {
    "tags": []
   },
   "outputs": [
    {
     "data": {
      "text/plain": [
       "Andrea       True\n",
       "Beth         True\n",
       "Caroline    False\n",
       "dtype: bool"
      ]
     },
     "execution_count": 10,
     "metadata": {},
     "output_type": "execute_result"
    }
   ],
   "source": [
    "# identifying wether the value is > than 70\n",
    "s>70"
   ]
  },
  {
   "cell_type": "markdown",
   "id": "921af05a-d9fe-471a-a101-7e28804510d7",
   "metadata": {},
   "source": [
    "This is simple -- but important!! Using conditions on Series is key to select data from dataframes."
   ]
  },
  {
   "cell_type": "markdown",
   "id": "6ed78a69-f294-4cd5-ac6b-0ae4c3f157ea",
   "metadata": {},
   "source": [
    "## Attributes & Methods\n",
    "\n",
    "Two examples about identifying missing values.\n",
    "\n",
    "- missing values in `pandas` are represented by `np.NaN` = not a number \n",
    "- `NaN` is a type of float in numpy"
   ]
  },
  {
   "cell_type": "code",
   "execution_count": 11,
   "id": "69703d4d-e054-44c6-b376-09fde36b4272",
   "metadata": {
    "tags": []
   },
   "outputs": [
    {
     "data": {
      "text/plain": [
       "nan"
      ]
     },
     "execution_count": 11,
     "metadata": {},
     "output_type": "execute_result"
    }
   ],
   "source": [
    "np.NaN"
   ]
  },
  {
   "cell_type": "code",
   "execution_count": 12,
   "id": "80e3251c-8ccb-4742-8ef0-50e541a3d991",
   "metadata": {
    "tags": []
   },
   "outputs": [
    {
     "data": {
      "text/plain": [
       "float"
      ]
     },
     "execution_count": 12,
     "metadata": {},
     "output_type": "execute_result"
    }
   ],
   "source": [
    "type(np.NaN)"
   ]
  },
  {
   "cell_type": "code",
   "execution_count": 14,
   "id": "7824fd92-2766-45e8-96f6-a791ab05c242",
   "metadata": {
    "tags": []
   },
   "outputs": [
    {
     "data": {
      "text/plain": [
       "0    1.0\n",
       "1    2.0\n",
       "2    NaN\n",
       "3    4.0\n",
       "4    NaN\n",
       "dtype: float64"
      ]
     },
     "execution_count": 14,
     "metadata": {},
     "output_type": "execute_result"
    }
   ],
   "source": [
    "#series with NAs in it:\n",
    "s = pd.Series([1,2, np.NaN, 4, np.NaN])\n",
    "s"
   ]
  },
  {
   "cell_type": "markdown",
   "id": "21233431-d0a3-4bc7-b66a-edfdccfb0f6d",
   "metadata": {},
   "source": [
    "`hasnans` = attributes of pandas series, returns `True` if there are any Nans"
   ]
  },
  {
   "cell_type": "code",
   "execution_count": 15,
   "id": "2a9b1e8b-02bb-4c0e-a5fd-5eacc0391739",
   "metadata": {
    "tags": []
   },
   "outputs": [
    {
     "data": {
      "text/plain": [
       "True"
      ]
     },
     "execution_count": 15,
     "metadata": {},
     "output_type": "execute_result"
    }
   ],
   "source": [
    "#check if series has Nans\n",
    "s.hasnans"
   ]
  },
  {
   "cell_type": "markdown",
   "id": "7ca35005-a4a4-44cc-8e42-45262d420be4",
   "metadata": {},
   "source": [
    "`isna()` = a method of series, returns a series indicating which elements are NAs:"
   ]
  },
  {
   "cell_type": "code",
   "execution_count": 16,
   "id": "735ac5a2-5b3c-4cd8-a410-c1d0a6b8f745",
   "metadata": {
    "tags": []
   },
   "outputs": [
    {
     "data": {
      "text/plain": [
       "0    False\n",
       "1    False\n",
       "2     True\n",
       "3    False\n",
       "4     True\n",
       "dtype: bool"
      ]
     },
     "execution_count": 16,
     "metadata": {},
     "output_type": "execute_result"
    }
   ],
   "source": [
    "s.isna()"
   ]
  },
  {
   "cell_type": "markdown",
   "id": "7a598430-0b90-43bd-9368-5845e4f3ed10",
   "metadata": {},
   "source": [
    "# Dataframes\n",
    "\n",
    "`pandas.DataFrame`:\n",
    "\n",
    "- most used object in `pandas`\n",
    "- represents tabular data (think of a spreadsheet)\n",
    "- each column is a `panda.Series`\n",
    "\n",
    "# Creating a `pandas.DataFrame`\n",
    "*Many ways of creating a dataframe*. Let's see one.\n",
    "\n",
    "Remember dictionaries? They are sets of key-value pairs:\n",
    "```\n",
    "{key1: value1,\n",
    "    key2 : value2\n",
    "    }\n",
    "```\n",
    "\n",
    "Think of a `pd.DataFrame` as a dictionary where:\n",
    "- `keys` = column names\n",
    "- `values` = column values \n",
    "\n",
    "We can create a data frame like this:"
   ]
  },
  {
   "cell_type": "code",
   "execution_count": 17,
   "id": "4abeb329-9f4d-4213-9361-e6c4738fc73d",
   "metadata": {
    "tags": []
   },
   "outputs": [
    {
     "data": {
      "text/plain": [
       "{'col_name_1': array([0, 1, 2]), 'col_name_2': [3.1, 3.2, 3.3]}"
      ]
     },
     "execution_count": 17,
     "metadata": {},
     "output_type": "execute_result"
    }
   ],
   "source": [
    "#initialize dictionary with columns' data\n",
    "d = {'col_name_1' : np.arange(3),\n",
    "    'col_name_2' : [3.1,3.2,3.3]\n",
    "    }\n",
    "d"
   ]
  },
  {
   "cell_type": "code",
   "execution_count": 18,
   "id": "6fa2a56d-6ba7-4a65-891f-30dc52c6f6b6",
   "metadata": {
    "tags": []
   },
   "outputs": [
    {
     "data": {
      "text/html": [
       "<div>\n",
       "<style scoped>\n",
       "    .dataframe tbody tr th:only-of-type {\n",
       "        vertical-align: middle;\n",
       "    }\n",
       "\n",
       "    .dataframe tbody tr th {\n",
       "        vertical-align: top;\n",
       "    }\n",
       "\n",
       "    .dataframe thead th {\n",
       "        text-align: right;\n",
       "    }\n",
       "</style>\n",
       "<table border=\"1\" class=\"dataframe\">\n",
       "  <thead>\n",
       "    <tr style=\"text-align: right;\">\n",
       "      <th></th>\n",
       "      <th>col_name_1</th>\n",
       "      <th>col_name_2</th>\n",
       "    </tr>\n",
       "  </thead>\n",
       "  <tbody>\n",
       "    <tr>\n",
       "      <th>0</th>\n",
       "      <td>0</td>\n",
       "      <td>3.1</td>\n",
       "    </tr>\n",
       "    <tr>\n",
       "      <th>1</th>\n",
       "      <td>1</td>\n",
       "      <td>3.2</td>\n",
       "    </tr>\n",
       "    <tr>\n",
       "      <th>2</th>\n",
       "      <td>2</td>\n",
       "      <td>3.3</td>\n",
       "    </tr>\n",
       "  </tbody>\n",
       "</table>\n",
       "</div>"
      ],
      "text/plain": [
       "   col_name_1  col_name_2\n",
       "0           0         3.1\n",
       "1           1         3.2\n",
       "2           2         3.3"
      ]
     },
     "execution_count": 18,
     "metadata": {},
     "output_type": "execute_result"
    }
   ],
   "source": [
    "# create data frame \n",
    "df = pd.DataFrame(d)\n",
    "df"
   ]
  },
  {
   "cell_type": "markdown",
   "id": "0b7d9b0f-3ace-45bf-a536-e52487a4461b",
   "metadata": {},
   "source": [
    "# In place Operations \n",
    "Let's rename the data frame's columns.\n",
    "We can use a dataframe *method* called `rename`,\n",
    "`rename` takes in as an input a dictionary:\n",
    "\n",
    "```\n",
    "{ 'col_old_name_1' : 'col_new_name_1',\n",
    "  'col_old_name_2' : 'col_new_name_2',\n",
    "}\n",
    "```"
   ]
  },
  {
   "cell_type": "code",
   "execution_count": 19,
   "id": "fc24a939-7a29-47fe-a91d-70f77580c0a2",
   "metadata": {
    "tags": []
   },
   "outputs": [
    {
     "data": {
      "text/html": [
       "<div>\n",
       "<style scoped>\n",
       "    .dataframe tbody tr th:only-of-type {\n",
       "        vertical-align: middle;\n",
       "    }\n",
       "\n",
       "    .dataframe tbody tr th {\n",
       "        vertical-align: top;\n",
       "    }\n",
       "\n",
       "    .dataframe thead th {\n",
       "        text-align: right;\n",
       "    }\n",
       "</style>\n",
       "<table border=\"1\" class=\"dataframe\">\n",
       "  <thead>\n",
       "    <tr style=\"text-align: right;\">\n",
       "      <th></th>\n",
       "      <th>col1</th>\n",
       "      <th>col2</th>\n",
       "    </tr>\n",
       "  </thead>\n",
       "  <tbody>\n",
       "    <tr>\n",
       "      <th>0</th>\n",
       "      <td>0</td>\n",
       "      <td>3.1</td>\n",
       "    </tr>\n",
       "    <tr>\n",
       "      <th>1</th>\n",
       "      <td>1</td>\n",
       "      <td>3.2</td>\n",
       "    </tr>\n",
       "    <tr>\n",
       "      <th>2</th>\n",
       "      <td>2</td>\n",
       "      <td>3.3</td>\n",
       "    </tr>\n",
       "  </tbody>\n",
       "</table>\n",
       "</div>"
      ],
      "text/plain": [
       "   col1  col2\n",
       "0     0   3.1\n",
       "1     1   3.2\n",
       "2     2   3.3"
      ]
     },
     "execution_count": 19,
     "metadata": {},
     "output_type": "execute_result"
    }
   ],
   "source": [
    "# define new column names \n",
    "col_names = {'col_name_1': 'col1',\n",
    "             'col_name_2': 'col2'\n",
    "            }\n",
    "\n",
    "#rename using rename\n",
    "df.rename(columns = col_names)"
   ]
  },
  {
   "cell_type": "code",
   "execution_count": 20,
   "id": "e7dfd747-f366-4223-ade8-a08a9530879f",
   "metadata": {
    "tags": []
   },
   "outputs": [
    {
     "data": {
      "text/html": [
       "<div>\n",
       "<style scoped>\n",
       "    .dataframe tbody tr th:only-of-type {\n",
       "        vertical-align: middle;\n",
       "    }\n",
       "\n",
       "    .dataframe tbody tr th {\n",
       "        vertical-align: top;\n",
       "    }\n",
       "\n",
       "    .dataframe thead th {\n",
       "        text-align: right;\n",
       "    }\n",
       "</style>\n",
       "<table border=\"1\" class=\"dataframe\">\n",
       "  <thead>\n",
       "    <tr style=\"text-align: right;\">\n",
       "      <th></th>\n",
       "      <th>col_name_1</th>\n",
       "      <th>col_name_2</th>\n",
       "    </tr>\n",
       "  </thead>\n",
       "  <tbody>\n",
       "    <tr>\n",
       "      <th>0</th>\n",
       "      <td>0</td>\n",
       "      <td>3.1</td>\n",
       "    </tr>\n",
       "    <tr>\n",
       "      <th>1</th>\n",
       "      <td>1</td>\n",
       "      <td>3.2</td>\n",
       "    </tr>\n",
       "    <tr>\n",
       "      <th>2</th>\n",
       "      <td>2</td>\n",
       "      <td>3.3</td>\n",
       "    </tr>\n",
       "  </tbody>\n",
       "</table>\n",
       "</div>"
      ],
      "text/plain": [
       "   col_name_1  col_name_2\n",
       "0           0         3.1\n",
       "1           1         3.2\n",
       "2           2         3.3"
      ]
     },
     "execution_count": 20,
     "metadata": {},
     "output_type": "execute_result"
    }
   ],
   "source": [
    "# take a look at our dataframe\n",
    "df"
   ]
  },
  {
   "cell_type": "markdown",
   "id": "419b194f-8975-4a93-8009-ea7540f9a87e",
   "metadata": {},
   "source": [
    "Nothing changed!\n",
    "`df.rename()` does not change the column names *in place*, meaning it does not modify the object itself. Insteadm it created a new object as an output.\n",
    "\n",
    "Assign putput back to dataframe to actually change it:"
   ]
  },
  {
   "cell_type": "code",
   "execution_count": 21,
   "id": "4957ceee-590a-46ca-b406-5f66d2b6ff91",
   "metadata": {
    "tags": []
   },
   "outputs": [
    {
     "data": {
      "text/html": [
       "<div>\n",
       "<style scoped>\n",
       "    .dataframe tbody tr th:only-of-type {\n",
       "        vertical-align: middle;\n",
       "    }\n",
       "\n",
       "    .dataframe tbody tr th {\n",
       "        vertical-align: top;\n",
       "    }\n",
       "\n",
       "    .dataframe thead th {\n",
       "        text-align: right;\n",
       "    }\n",
       "</style>\n",
       "<table border=\"1\" class=\"dataframe\">\n",
       "  <thead>\n",
       "    <tr style=\"text-align: right;\">\n",
       "      <th></th>\n",
       "      <th>col1</th>\n",
       "      <th>col2</th>\n",
       "    </tr>\n",
       "  </thead>\n",
       "  <tbody>\n",
       "    <tr>\n",
       "      <th>0</th>\n",
       "      <td>0</td>\n",
       "      <td>3.1</td>\n",
       "    </tr>\n",
       "    <tr>\n",
       "      <th>1</th>\n",
       "      <td>1</td>\n",
       "      <td>3.2</td>\n",
       "    </tr>\n",
       "    <tr>\n",
       "      <th>2</th>\n",
       "      <td>2</td>\n",
       "      <td>3.3</td>\n",
       "    </tr>\n",
       "  </tbody>\n",
       "</table>\n",
       "</div>"
      ],
      "text/plain": [
       "   col1  col2\n",
       "0     0   3.1\n",
       "1     1   3.2\n",
       "2     2   3.3"
      ]
     },
     "execution_count": 21,
     "metadata": {},
     "output_type": "execute_result"
    }
   ],
   "source": [
    "df = df.rename(columns = col_names)\n",
    "df"
   ]
  },
  {
   "cell_type": "code",
   "execution_count": null,
   "id": "af5e64f1-ab62-4965-b53d-6e5566760378",
   "metadata": {},
   "outputs": [],
   "source": []
  }
 ],
 "metadata": {
  "kernelspec": {
   "display_name": "Anaconda 3 (Base)",
   "language": "python",
   "name": "base"
  },
  "language_info": {
   "codemirror_mode": {
    "name": "ipython",
    "version": 3
   },
   "file_extension": ".py",
   "mimetype": "text/x-python",
   "name": "python",
   "nbconvert_exporter": "python",
   "pygments_lexer": "ipython3",
   "version": "3.9.13"
  }
 },
 "nbformat": 4,
 "nbformat_minor": 5
}
