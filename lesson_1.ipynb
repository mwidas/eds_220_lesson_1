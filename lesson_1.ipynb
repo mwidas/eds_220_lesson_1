{
 "cells": [
  {
   "cell_type": "markdown",
   "id": "0434989c-c717-49d7-88a1-e8b2f8121b6c",
   "metadata": {},
   "source": [
    "# `numpy`\n",
    "\n",
    " - one of the core packages for numerical computing in python\n",
    " - many packages are built on top of numpy\n",
    " - `numpy` has been optimized for procesing: faster due to memory access\n"
   ]
  },
  {
   "cell_type": "code",
   "execution_count": 1,
   "id": "11e38f5e-9929-4121-a4a8-7e8c60813b60",
   "metadata": {
    "tags": []
   },
   "outputs": [],
   "source": [
    "# import Numpy with standard abbreviation\n",
    "import numpy as np"
   ]
  },
  {
   "cell_type": "markdown",
   "id": "033730f1-101f-4bca-95ae-5928f5695bc1",
   "metadata": {
    "tags": []
   },
   "source": [
    "# Variables\n",
    "We can think about variables as a name we assign to a particular object in Python. For example,"
   ]
  },
  {
   "cell_type": "code",
   "execution_count": 2,
   "id": "c1e1090f-280b-496b-aae2-541e7565a458",
   "metadata": {
    "tags": []
   },
   "outputs": [],
   "source": [
    "# assign a small array to a variable a \n",
    "a = np.array( [ [1,1,2],[3,5,8] ]  )"
   ]
  },
  {
   "cell_type": "markdown",
   "id": "ec9a537a-5189-460d-9c04-de53d75c3e5f",
   "metadata": {},
   "source": [
    "When we run the cell, we store the variable and its value. We can see the variables value in two ways:"
   ]
  },
  {
   "cell_type": "code",
   "execution_count": 3,
   "id": "c1d430a3-b699-4c70-a2d2-7fb5a0594fd0",
   "metadata": {
    "tags": []
   },
   "outputs": [
    {
     "data": {
      "text/plain": [
       "array([[1, 1, 2],\n",
       "       [3, 5, 8]])"
      ]
     },
     "execution_count": 3,
     "metadata": {},
     "output_type": "execute_result"
    }
   ],
   "source": [
    "a"
   ]
  },
  {
   "cell_type": "code",
   "execution_count": 4,
   "id": "080572a0-abff-4897-9b2d-330af542013c",
   "metadata": {
    "tags": []
   },
   "outputs": [
    {
     "name": "stdout",
     "output_type": "stream",
     "text": [
      "[[1 1 2]\n",
      " [3 5 8]]\n"
     ]
    }
   ],
   "source": [
    "print(a)"
   ]
  },
  {
   "cell_type": "markdown",
   "id": "c198a1bf-5b22-47ec-8f52-bb21f10542fa",
   "metadata": {},
   "source": [
    "## Naming Variables\n",
    "In the class we are going to use `snake_case` for naming variables.\n",
    "\n",
    "# Variables and objects \n",
    "\n",
    "**object**: often encountered in Python documentation and turtorials.\n",
    "\n",
    "object is a bundle of properties and actions about something specific \n",
    "\n",
    "Example:\n",
    "- object: data frame\n",
    "-properties: number of rows, names of columns, data created\n",
    "-actions: selecting a row, adding a column\n",
    "\n",
    "A variable is a name we give a specific object, and the same object can be referenced bu different variables.\n",
    "\n",
    "Example:\n",
    "\n",
    "- The Sun (actual star at the center of the solar system) = object\n",
    "- sol = Spanish word for Sun = variable\n",
    "- soleil = French word for sun = variable \n",
    "\n",
    "In practice: we will use object and variable interchangeably \n"
   ]
  },
  {
   "cell_type": "markdown",
   "id": "d1f6a2a4-2bec-453e-8675-efbd4de6ca20",
   "metadata": {},
   "source": [
    "# Types\n",
    "\n",
    "Each object in Python has a type.\n",
    "\n",
    "type = what kind of object it is \n",
    "\n",
    "We can also call the type of the object, the **class** of the object.\n",
    "\n",
    "We can see the type/class of an object by using the `type` function."
   ]
  },
  {
   "cell_type": "code",
   "execution_count": 6,
   "id": "3ce8ebc7-da97-48af-9ce6-88d61ac6e01a",
   "metadata": {
    "tags": []
   },
   "outputs": [
    {
     "name": "stdout",
     "output_type": "stream",
     "text": [
      "[[1 1 2]\n",
      " [3 5 8]]\n"
     ]
    },
    {
     "data": {
      "text/plain": [
       "numpy.ndarray"
      ]
     },
     "execution_count": 6,
     "metadata": {},
     "output_type": "execute_result"
    }
   ],
   "source": [
    "print(a)\n",
    "type(a)"
   ]
  },
  {
   "cell_type": "markdown",
   "id": "9ad9bd3b-07e7-4764-a7c7-ece722f7981f",
   "metadata": {},
   "source": [
    "the `numpy.ndarray` is the core object/data type in the Numpy package. We can check the tye of an entry in an array by indexing."
   ]
  },
  {
   "cell_type": "code",
   "execution_count": 8,
   "id": "49ddfbab-3e33-4b51-8fa8-5cc84fc3f4f8",
   "metadata": {
    "tags": []
   },
   "outputs": [
    {
     "name": "stdout",
     "output_type": "stream",
     "text": [
      "1\n"
     ]
    },
    {
     "data": {
      "text/plain": [
       "numpy.int64"
      ]
     },
     "execution_count": 8,
     "metadata": {},
     "output_type": "execute_result"
    }
   ],
   "source": [
    "# access first row and first column and what is the type of this output\n",
    "print(a[0,0])\n",
    "type(a[0,0])"
   ]
  },
  {
   "cell_type": "code",
   "execution_count": 9,
   "id": "936ff6d4-b689-41bb-b8ad-c6e919c134d9",
   "metadata": {
    "tags": []
   },
   "outputs": [
    {
     "name": "stdout",
     "output_type": "stream",
     "text": [
      "5\n"
     ]
    }
   ],
   "source": [
    "# how would you access the value 5 in the array a?\n",
    "print(a[1,1])"
   ]
  },
  {
   "cell_type": "markdown",
   "id": "a906ae7a-c00d-49c6-ac30-a7a23aac8eba",
   "metadata": {},
   "source": [
    "# Functions \n",
    "\n",
    "`print` was our first example of a Python function! :)\n",
    "A function:\n",
    "- take in a set of **arguments**, separated by commas, and \n",
    "- use those orguments to product some **output**\n",
    "\n",
    "argument = parameter : you might see argument more often in the documentation\n",
    "\n",
    "We can ask information about a function by executing `?`followed by the function name"
   ]
  },
  {
   "cell_type": "code",
   "execution_count": 10,
   "id": "cb874a8e-d6e5-495f-ac5f-07f51124869d",
   "metadata": {
    "tags": []
   },
   "outputs": [
    {
     "data": {
      "text/plain": [
       "\u001b[0;31mDocstring:\u001b[0m\n",
       "print(value, ..., sep=' ', end='\\n', file=sys.stdout, flush=False)\n",
       "\n",
       "Prints the values to a stream, or to sys.stdout by default.\n",
       "Optional keyword arguments:\n",
       "file:  a file-like object (stream); defaults to the current sys.stdout.\n",
       "sep:   string inserted between values, default a space.\n",
       "end:   string appended after the last value, default a newline.\n",
       "flush: whether to forcibly flush the stream.\n",
       "\u001b[0;31mType:\u001b[0m      builtin_function_or_method\n"
      ]
     },
     "metadata": {},
     "output_type": "display_data"
    }
   ],
   "source": [
    "?print"
   ]
  },
  {
   "cell_type": "markdown",
   "id": "0a00d31c-a568-4a50-aa9a-93cb376fc8e8",
   "metadata": {},
   "source": [
    "- first line: function showing all of its arguments in paranthesis\n",
    "- then a short description of what the function does \n",
    "- finally, a list of the arguments and a brief explanation of each of them.\n",
    "\n",
    "Different types of arguments inside the paranthesis. Roughly speaking there are two types of arguments:\n",
    "\n",
    "- **non-optional arguments**: arguments you need to specify for the function to do something\n",
    "- **optional argument**: arguments that are pre-filled by a default value by the function, but we can override them. Optional arguments appear inside the paranthesis () in the form \n",
    "\n",
    "`optional argument = default_value`"
   ]
  },
  {
   "cell_type": "code",
   "execution_count": 12,
   "id": "7822589e-dced-4464-a2ce-aa1aea8a1fc3",
   "metadata": {
    "tags": []
   },
   "outputs": [
    {
     "name": "stdout",
     "output_type": "stream",
     "text": [
      "changing the default end argument of the print function:)"
     ]
    }
   ],
   "source": [
    "print('changing the default end argument of the print function', end=':)')"
   ]
  },
  {
   "cell_type": "code",
   "execution_count": 13,
   "id": "0b23f54c-89f3-4f6f-a095-ccba5a0352d5",
   "metadata": {
    "tags": []
   },
   "outputs": [
    {
     "name": "stdout",
     "output_type": "stream",
     "text": [
      "changing the default end argument of the print function\n"
     ]
    }
   ],
   "source": [
    "print('changing the default end argument of the print function')"
   ]
  },
  {
   "cell_type": "code",
   "execution_count": null,
   "id": "549bd1a9-8434-4485-8f58-830d4d3380e3",
   "metadata": {},
   "outputs": [],
   "source": []
  }
 ],
 "metadata": {
  "kernelspec": {
   "display_name": "Anaconda 3 (Base)",
   "language": "python",
   "name": "base"
  },
  "language_info": {
   "codemirror_mode": {
    "name": "ipython",
    "version": 3
   },
   "file_extension": ".py",
   "mimetype": "text/x-python",
   "name": "python",
   "nbconvert_exporter": "python",
   "pygments_lexer": "ipython3",
   "version": "3.9.13"
  }
 },
 "nbformat": 4,
 "nbformat_minor": 5
}
